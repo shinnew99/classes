{
 "cells": [
  {
   "cell_type": "code",
   "execution_count": 1,
   "metadata": {},
   "outputs": [
    {
     "name": "stdout",
     "output_type": "stream",
     "text": [
      "트럼프\n"
     ]
    }
   ],
   "source": [
    "import time\n",
    "import traceback\n",
    "from selenium import webdriver\n",
    "from selenium.webdriver.common.keys import Keys\n",
    "from selenium.webdriver.common.action_chains import ActionChains\n",
    "import pandas as pd\n",
    "import datetime \n",
    "\n",
    "opts = webdriver.ChromeOptions()\n",
    "\n",
    "d = webdriver.Chrome('./chromedriver', options=opts)\n",
    "\n",
    "try: \n",
    "    d.get('https://www.naver.com')\n",
    "    #d.save_screenshopt('test.png')\n",
    "    \n",
    "    \n",
    "    # 단어 검색\n",
    "    keyword = input()\n",
    "    query = d.find_element_by_id('query')\n",
    "    query.send_keys(keyword)\n",
    "    query.send_keys(Keys.RETURN)\n",
    "    #print(keyword)\n",
    "    \n",
    "    \n",
    "    # tab list에서 '뉴스'인지 식별\n",
    "    menu_area = d.find_element_by_class_name('lnb_menu')\n",
    "    tab = menu_area.find_elements_by_tag_name('li')[1]\n",
    "    time.sleep(1.0)\n",
    "    \n",
    "    \n",
    "    for tab in menu_area.find_elements_by_tag_name('li'):\n",
    "        if tab.text == '뉴스':\n",
    "            tab.click()\n",
    "            break\n",
    "            \n",
    "            \n",
    "    # 뉴스 클릭 후 검색 결과의 링크, 제목, 뉴스, 제공자, 날짜, 요약내용 수집\n",
    "    list_news = d.find_element_by_class_name('list_news')\n",
    "    \n",
    "    searchList = []\n",
    "    for element in list_news.find_elements_by_class_name('bx'):\n",
    "        Link = element.find_element_by_class_name('news_tit').get_attribute('href')\n",
    "        Title = element.find_element_by_class_name('news_tit').text\n",
    "        Press = element.find_element_by_css_selector('div.news_info > div > a').text\n",
    "        Time = element.find_element_by_css_selector('div.news_info > div > span').text \n",
    "        Content = element.find_element_by_class_name('dsc_wrap').text\n",
    "\n",
    "        searchList.append([Link, Title, Press, Time, Content])\n",
    "        \n",
    "    #print(searchList)        \n",
    "    \n",
    "    # 수집한 결과를 데이터프레임으로 cast한 후 엑셀에 저장\n",
    "    now = datetime.datetime.now().strftime(\"%Y-%m-%d\")\n",
    "    filename = now + \"-\" + keyword\n",
    "\n",
    "\n",
    "    data = pd.DataFrame(searchList)\n",
    "    data.columns = ['Link', 'Title', 'Press', 'Time', 'Content']\n",
    "    data.head()\n",
    "\n",
    "\n",
    "    data.to_excel(f'{filename}.xlsx', encoding='UTF-8')            \n",
    "\n",
    "\n",
    "except Exception as e:\n",
    "    traceback.print_exec()\n",
    "     \n",
    "finally:\n",
    "    d.close()\n",
    "    d.quit()\n",
    "    #print('ok')"
   ]
  },
  {
   "cell_type": "code",
   "execution_count": null,
   "metadata": {},
   "outputs": [],
   "source": []
  }
 ],
 "metadata": {
  "kernelspec": {
   "display_name": "Python 3",
   "language": "python",
   "name": "python3"
  },
  "language_info": {
   "codemirror_mode": {
    "name": "ipython",
    "version": 3
   },
   "file_extension": ".py",
   "mimetype": "text/x-python",
   "name": "python",
   "nbconvert_exporter": "python",
   "pygments_lexer": "ipython3",
   "version": "3.7.6"
  }
 },
 "nbformat": 4,
 "nbformat_minor": 4
}
